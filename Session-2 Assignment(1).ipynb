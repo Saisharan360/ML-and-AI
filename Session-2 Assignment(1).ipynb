{
 "cells": [
  {
   "cell_type": "markdown",
   "id": "bd4e231f",
   "metadata": {},
   "source": [
    "# Code to perform a basic operations on two random numbers"
   ]
  },
  {
   "cell_type": "code",
   "execution_count": 6,
   "id": "34854db3",
   "metadata": {},
   "outputs": [
    {
     "name": "stdout",
     "output_type": "stream",
     "text": [
      "17 15 16 16.0\n"
     ]
    }
   ],
   "source": [
    "import random \n",
    "num1 = random.randint(11,20)\n",
    "num2 = random.randint(0,10)\n",
    "add = num1+num2\n",
    "sub = num1-num2\n",
    "mul = num1*num2\n",
    "div = num1/num2\n",
    "print(add,sub,mul,div)\n"
   ]
  },
  {
   "cell_type": "markdown",
   "id": "4e525dc2",
   "metadata": {},
   "source": [
    "# Using math function\n",
    "    \n",
    "    "
   ]
  },
  {
   "cell_type": "code",
   "execution_count": 7,
   "id": "4f21bf94",
   "metadata": {},
   "outputs": [
    {
     "name": "stdout",
     "output_type": "stream",
     "text": [
      "Num1: 26\n",
      "Num2: 62\n",
      "Add: 88\n",
      "Sub: -36\n",
      "Mul: 1612\n",
      "Div: 0.41935483870967744\n"
     ]
    }
   ],
   "source": [
    "import random \n",
    "def math(num1,num2):\n",
    "    print(\"Add:\",num1+num2)\n",
    "    print(\"Sub:\",num1-num2)\n",
    "    print(\"Mul:\",num1*num2)\n",
    "    print(\"Div:\",num1/num2)\n",
    "num1=random.randint(0,100)\n",
    "num2=random.randint(0,100)\n",
    "print(\"Num1:\",num1)\n",
    "print(\"Num2:\",num2)\n",
    "math(num1,num2)\n",
    "    "
   ]
  },
  {
   "cell_type": "code",
   "execution_count": null,
   "id": "bb70958a",
   "metadata": {},
   "outputs": [],
   "source": []
  }
 ],
 "metadata": {
  "kernelspec": {
   "display_name": "Python 3",
   "language": "python",
   "name": "python3"
  },
  "language_info": {
   "codemirror_mode": {
    "name": "ipython",
    "version": 3
   },
   "file_extension": ".py",
   "mimetype": "text/x-python",
   "name": "python",
   "nbconvert_exporter": "python",
   "pygments_lexer": "ipython3",
   "version": "3.8.8"
  }
 },
 "nbformat": 4,
 "nbformat_minor": 5
}
